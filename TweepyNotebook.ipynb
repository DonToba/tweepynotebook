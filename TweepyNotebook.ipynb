{
 "cells": [
  {
   "cell_type": "markdown",
   "metadata": {},
   "source": [
    "# Tweepy Notebook\n",
    "\n",
    "Notebook will provide an example of how to use the Tweepy package to read tweets, do some simple processing and then load them into pandas.\n",
    "\n",
    "The first thing you need to do is log into twitter and create an application.\n",
    "\n",
    "[Twitter Apps](https://apps.twitter.com)\n",
    "\n",
    "Select the **Create New App** button\n",
    "\n",
    "and fill out the application information.\n",
    "\n",
    "You will ultimately need the following pieces of information:\n",
    "\n",
    "- access_token\n",
    "- access_token_secret\n",
    "- consumer_key\n",
    "- consumer_secret\n",
    "\n",
    "\n"
   ]
  },
  {
   "cell_type": "code",
   "execution_count": 26,
   "metadata": {},
   "outputs": [],
   "source": [
    "import tweepy\n",
    "import json\n",
    "import re\n",
    "import pandas as pd\n",
    "from config import Config as cfg"
   ]
  },
  {
   "cell_type": "code",
   "execution_count": 27,
   "metadata": {},
   "outputs": [],
   "source": [
    "access_token = cfg.access_token\n",
    "access_token_secret = cfg.access_token_secret\n",
    "consumer_key = cfg.consumer_key\n",
    "consumer_secret = cfg.consumer_secret\n",
    "\n",
    "tweet_file_name = 'tweets.txt'\n",
    "file_mode = 'a'"
   ]
  },
  {
   "cell_type": "markdown",
   "metadata": {},
   "source": [
    "Create a tweepy OAuthHandler, to be used when we stream the tweets."
   ]
  },
  {
   "cell_type": "code",
   "execution_count": 28,
   "metadata": {},
   "outputs": [],
   "source": [
    "auth = tweepy.OAuthHandler(consumer_key, consumer_secret)\n",
    "auth.set_access_token(access_token, access_token_secret)\n"
   ]
  },
  {
   "cell_type": "code",
   "execution_count": 30,
   "metadata": {},
   "outputs": [],
   "source": [
    "class MyStreamListener(tweepy.StreamListener):\n",
    "    def __init__(self, api=None, file_name='tweets.txt', mode='a', max_tweets=300):\n",
    "        super(MyStreamListener, self).__init__()\n",
    "        self.num_tweets = 0\n",
    "        self.file = open(file_name, mode)\n",
    "        self.max_tweets = max_tweets\n",
    "\n",
    "    def on_status(self, status):\n",
    "        tweet = status._json\n",
    "        self.file.write( json.dumps(tweet) + '\\n' )\n",
    "        self.num_tweets += 1\n",
    "        if self.num_tweets < self.max_tweets:\n",
    "            return True\n",
    "        else:\n",
    "            return False\n",
    "        self.file.close()\n",
    "\n",
    "    def on_error(self, status):\n",
    "        print(status)\n"
   ]
  },
  {
   "cell_type": "markdown",
   "metadata": {},
   "source": [
    "Select a filter word or words.  Becareful to pick a set of filter words that will give you hits on tweets quickly, else the stream will wait until it has enough tweets before it exits."
   ]
  },
  {
   "cell_type": "code",
   "execution_count": 31,
   "metadata": {},
   "outputs": [],
   "source": [
    "filter_words=['trump']"
   ]
  },
  {
   "cell_type": "code",
   "execution_count": 32,
   "metadata": {},
   "outputs": [],
   "source": [
    "l = MyStreamListener()\n",
    "stream = tweepy.Stream(auth, l, file_name=tweet_file_name, mode=file_mode, max_tweets=300)\n",
    "\n",
    "# filters twitter streams to capture data by keywords\n",
    "stream.filter(track=filter_words)\n"
   ]
  },
  {
   "cell_type": "markdown",
   "metadata": {},
   "source": [
    "### Post process the collected tweets\n",
    "\n",
    "Read the tweets file"
   ]
  },
  {
   "cell_type": "code",
   "execution_count": 42,
   "metadata": {},
   "outputs": [],
   "source": [
    "def word_in_text(word, tweet):\n",
    "    word = word.lower()\n",
    "    text = tweet.lower()\n",
    "    match = re.search(word, text)\n",
    "\n",
    "    if match:\n",
    "        return True\n",
    "    return False\n"
   ]
  },
  {
   "cell_type": "code",
   "execution_count": 43,
   "metadata": {},
   "outputs": [],
   "source": [
    "tweets_data = []\n",
    "tweets_with_words = ['russia', 'SeanHannity', 'Mueller', 'clinton']\n",
    "with open(tweet_file_name, 'r') as tweets_file:\n",
    "    for line in tweets_file:\n",
    "        tweet = json.loads(line)\n",
    "        user = tweet['user']\n",
    "        tweet['user_id'] = user['id']\n",
    "        tweet['screen_name'] = user['screen_name']\n",
    "        tweet['len'] = len(tweet['text'])\n",
    "        for word in tweets_with_words:\n",
    "            tweet[word] = 1 if word_in_text(word, tweet['text']) else 0\n",
    "        tweets_data.append(tweet)\n"
   ]
  },
  {
   "cell_type": "code",
   "execution_count": 45,
   "metadata": {},
   "outputs": [
    {
     "name": "stdout",
     "output_type": "stream",
     "text": [
      "                                                 text     screen_name  len  \\\n",
      "0             @AlamoOnTheRise https://t.co/ukp07vXGqf        ne1for23   39   \n",
      "1                     So true https://t.co/Vq9ayIAcAn        jend0315   31   \n",
      "2   RT @sumariumcom: Cabello sobre ausencia de Tru...   REACCI0NARIAA  139   \n",
      "3   RT @TrumpTrainMRA4: @facebook \\n@DiamondandSil...     Crowntiptoe  140   \n",
      "4   RT @page88: Thread. Don’t think this overstate...    JadeJensen29   80   \n",
      "5   @SpeakerRyan @SenateMajLdr #ProtectMueller #Pr...      Terryg1979   85   \n",
      "6   RT @funder: Trump sending troops to the border...   IamBrooklyn31  140   \n",
      "7   RT @AnnCoulter: Mueller is DYING to get fired....          SPeek1  139   \n",
      "8   Yup.\\nTrain wreck coming.\\n#Resist\\n#Resign\\n#...       titeman50   73   \n",
      "9   RT @drscott_atlanta: #FBI raids @realDonaldTru...       Jdflygirl  140   \n",
      "10  RT @MSNBC: The New York Times reports special ...     hani_azer11  140   \n",
      "11  RT @CoreyLMJones: Mark Zuckerberg said that Fa...  MikeypoosFilms  140   \n",
      "12  RT @ABC: Sen. Chuck Schumer: \"President Trump,...   LookItUpJones  140   \n",
      "13  RT @ryan_trollip: Of course he will https://t....  Wellness4You13   59   \n",
      "14  RT @JoyAnnReid: The “if Trump fired Mueller Re...       iamfoffey  118   \n",
      "15  RT @BillKristol: I'm honored to be a founding ...   Carla__Wright  140   \n",
      "16  @DennisDMZ Pretty sure Trump is about to take ...      EmojiVader  140   \n",
      "17  Two ironies from the last election cycle stand...       LoufromCT  139   \n",
      "18  White House says it's \"been advised\" that tRum...      atmorehead  108   \n",
      "19  RT @RWPUSA: The House and Senate should be con...  appreciate1954  140   \n",
      "\n",
      "    russia  SeanHannity  Mueller  clinton  \n",
      "0        0            0        0        0  \n",
      "1        0            0        0        0  \n",
      "2        0            0        0        0  \n",
      "3        0            0        0        0  \n",
      "4        0            0        0        0  \n",
      "5        0            0        1        0  \n",
      "6        0            0        0        0  \n",
      "7        0            0        1        0  \n",
      "8        0            0        0        0  \n",
      "9        0            0        1        0  \n",
      "10       0            0        1        0  \n",
      "11       0            0        0        0  \n",
      "12       0            0        0        0  \n",
      "13       0            0        0        0  \n",
      "14       0            0        1        0  \n",
      "15       0            0        0        0  \n",
      "16       0            0        0        0  \n",
      "17       0            0        0        0  \n",
      "18       0            0        1        0  \n",
      "19       0            0        1        0  \n",
      "(299, 7)\n"
     ]
    }
   ],
   "source": [
    "columns=['text', 'screen_name', 'len']\n",
    "columns.extend(tweets_with_words)\n",
    "df = pd.DataFrame(tweets_data, columns=columns)\n",
    "\n",
    "print(df.head(20))\n",
    "print(df.shape)"
   ]
  },
  {
   "cell_type": "code",
   "execution_count": null,
   "metadata": {},
   "outputs": [],
   "source": []
  }
 ],
 "metadata": {
  "kernelspec": {
   "display_name": "Python 3",
   "language": "python",
   "name": "python3"
  },
  "language_info": {
   "codemirror_mode": {
    "name": "ipython",
    "version": 3
   },
   "file_extension": ".py",
   "mimetype": "text/x-python",
   "name": "python",
   "nbconvert_exporter": "python",
   "pygments_lexer": "ipython3",
   "version": "3.6.1"
  }
 },
 "nbformat": 4,
 "nbformat_minor": 2
}
